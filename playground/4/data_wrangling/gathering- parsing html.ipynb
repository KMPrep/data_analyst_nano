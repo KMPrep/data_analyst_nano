{
 "cells": [
  {
   "cell_type": "markdown",
   "metadata": {},
   "source": [
    "## Quiz"
   ]
  },
  {
   "cell_type": "code",
   "execution_count": 7,
   "metadata": {},
   "outputs": [],
   "source": [
    "from bs4 import BeautifulSoup\n",
    "import os\n",
    "import pandas as pd"
   ]
  },
  {
   "cell_type": "code",
   "execution_count": 18,
   "metadata": {},
   "outputs": [],
   "source": [
    "# List of dictionaries to build file by file and later convert to a DataFrame\n",
    "df_list = []\n",
    "folder = 'C:\\\\Karthick\\\\git\\\\data_analyst_nano\\\\playground\\\\4\\\\data_wrangling\\\\rt-html\\\\'\n",
    "for movie_html in os.listdir(folder):\n",
    "    with open(os.path.join(folder, movie_html)) as file:\n",
    "        beautiful_soup = BeautifulSoup(file)\n",
    "        title = beautiful_soup.find('title').contents[0][:-len(\" - Rotten Tomatoes\")].strip()        \n",
    "        scorePanelDiv = beautiful_soup.find('div', {'id':'scorePanel'})\n",
    "        audienceScoreDiv = scorePanelDiv.find('div', {'class':'audience-score'})\n",
    "        ScoreSpan = audienceScoreDiv.find('span', {'class':'superPageFontColor'})\n",
    "        audience_score = ScoreSpan.contents[0].replace('%','')\n",
    "        audienceInfoDiv = scorePanelDiv.find('div',{'class':'audience-info'})        \n",
    "        superPageList = audienceInfoDiv.find_all('div')\n",
    "        for s in superPageList:\n",
    "            if \"User Ratings\" in s.find('span').contents[0]:\n",
    "                num_audience_ratings = s.contents[2].strip().replace(',','')\n",
    "        # Append to list of dictionaries\n",
    "        df_list.append({'title': title,\n",
    "                        'audience_score': int(audience_score),\n",
    "                        'number_of_audience_ratings': int(num_audience_ratings)})\n",
    "df = pd.DataFrame(df_list, columns = ['title', 'audience_score', 'number_of_audience_ratings'])"
   ]
  },
  {
   "cell_type": "markdown",
   "metadata": {},
   "source": [
    "## Solution Test\n",
    "Run the cell below the see if your solution is correct. If an `AssertionError` is thrown, your solution is incorrect. If no error is thrown, your solution is correct."
   ]
  },
  {
   "cell_type": "code",
   "execution_count": 19,
   "metadata": {},
   "outputs": [
    {
     "ename": "AssertionError",
     "evalue": "DataFrame.iloc[:, 0] are different\n\nDataFrame.iloc[:, 0] values are different (3.0 %)\n[left]:  [12 Angry Men (Twelve Angry Men) (1957), 12 Years a Slave (2013), A Hard Day's Night (1964), A Streetcar Named Desire (1951), Alien (1979), All About Eve (1950), All Quiet on the Western Front (1930), Apocalypse Now (1979), Argo (2012), Army of Shadows (L'ArmÃ©e des ombres) (1969), Arrival (2016), Baby Driver (2017), Battleship Potemkin (1925), Bicycle Thieves (Ladri di biciclette) (1949), Boyhood (2014), Brooklyn (2015), Casablanca (1942), Citizen Kane (1941), Dr. Strangelove Or How I Learned to Stop Worrying and Love the Bomb (1964), Dunkirk (2017), E.T. The Extra-Terrestrial (1982), Finding Nemo (2003), Frankenstein (1931), Get Out (2017), Gone With the Wind (1939), Gravity (2013), Harry Potter and the Deathly Hallows - Part 2 (2011), Hell or High Water (2016), High Noon (1952), Inside Out (2015), It Happened One Night (1934), Jaws (1975), King Kong (1933), L.A. Confidential (1997), La Grande illusion (Grand Illusion) (1938), La La Land (2016), Laura (1944), Logan (2017), Mad Max: Fury Road (2015), Man on Wire (2008), Manchester by the Sea (2016), Metropolis (1927), Modern Times (1936), Moonlight (2016), M (1931), North by Northwest (1959), Nosferatu, a Symphony of Horror (Nosferatu, eine Symphonie des Grauens) (Nosferatu the Vampire) (1922), On the Waterfront (1954), Open City (1946), Pinocchio (1940), Psycho (1960), RashÃ´mon (1951), Rear Window (1954), Rebecca (1940), Repulsion (1965), Roman Holiday (1953), Rosemary's Baby (1968), Selma (2015), Seven Samurai (Shichinin no Samurai) (1956), Singin' in the Rain (1952), Skyfall (2012), Snow White and the Seven Dwarfs (1937), Spotlight (2015), Star Trek (2009), Star Wars: Episode VII - The Force Awakens (2015), Sunset Boulevard (1950), Taxi Driver (1976), The 39 Steps (1935), The 400 Blows (Les Quatre cents coups) (1959), The Adventures of Robin Hood (1938), The Babadook (2014), The Battle of Algiers (La Battaglia di Algeri) (1967), The Big Sick (2017), The Bride of Frankenstein (1935), The Cabinet of Dr. Caligari (Das Cabinet des Dr. Caligari) (1920), The Conformist (1970), The Dark Knight (2008), The Godfather, Part II (1974), The Godfather (1972), The Good, the Bad and the Ugly (1966), The Grapes of Wrath (1940), The Jungle Book (2016), The Last Picture Show (1971), The Maltese Falcon (1941), The Night of the Hunter (1955), The Philadelphia Story (1940), The Third Man (1949), The Treasure of the Sierra Madre (1948), The Wages of Fear (1953), The Wizard of Oz (1939), The Wrestler (2008), Tokyo Story (TÃ´kyÃ´ monogatari) (1953), Touch of Evil (1958), Toy Story 2 (1999), Toy Story 3 (2010), Toy Story (1995), Up (2009), Vertigo (1958), Wonder Woman (2017), Zootopia (2016)]\n[right]: [12 Angry Men (Twelve Angry Men) (1957), 12 Years a Slave (2013), A Hard Day's Night (1964), A Streetcar Named Desire (1951), Alien (1979), All About Eve (1950), All Quiet on the Western Front (1930), Apocalypse Now (1979), Argo (2012), Army of Shadows (L'Armée des ombres) (1969), Arrival (2016), Baby Driver (2017), Battleship Potemkin (1925), Bicycle Thieves (Ladri di biciclette) (1949), Boyhood (2014), Brooklyn (2015), Casablanca (1942), Citizen Kane (1941), Dr. Strangelove Or How I Learned to Stop Worrying and Love the Bomb (1964), Dunkirk (2017), E.T. The Extra-Terrestrial (1982), Finding Nemo (2003), Frankenstein (1931), Get Out (2017), Gone With the Wind (1939), Gravity (2013), Harry Potter and the Deathly Hallows - Part 2 (2011), Hell or High Water (2016), High Noon (1952), Inside Out (2015), It Happened One Night (1934), Jaws (1975), King Kong (1933), L.A. Confidential (1997), La Grande illusion (Grand Illusion) (1938), La La Land (2016), Laura (1944), Logan (2017), Mad Max: Fury Road (2015), Man on Wire (2008), Manchester by the Sea (2016), Metropolis (1927), Modern Times (1936), Moonlight (2016), M (1931), North by Northwest (1959), Nosferatu, a Symphony of Horror (Nosferatu, eine Symphonie des Grauens) (Nosferatu the Vampire) (1922), On the Waterfront (1954), Open City (1946), Pinocchio (1940), Psycho (1960), Rashômon (1951), Rear Window (1954), Rebecca (1940), Repulsion (1965), Roman Holiday (1953), Rosemary's Baby (1968), Selma (2015), Seven Samurai (Shichinin no Samurai) (1956), Singin' in the Rain (1952), Skyfall (2012), Snow White and the Seven Dwarfs (1937), Spotlight (2015), Star Trek (2009), Star Wars: Episode VII - The Force Awakens (2015), Sunset Boulevard (1950), Taxi Driver (1976), The 39 Steps (1935), The 400 Blows (Les Quatre cents coups) (1959), The Adventures of Robin Hood (1938), The Babadook (2014), The Battle of Algiers (La Battaglia di Algeri) (1967), The Big Sick (2017), The Bride of Frankenstein (1935), The Cabinet of Dr. Caligari (Das Cabinet des Dr. Caligari) (1920), The Conformist (1970), The Dark Knight (2008), The Godfather, Part II (1974), The Godfather (1972), The Good, the Bad and the Ugly (1966), The Grapes of Wrath (1940), The Jungle Book (2016), The Last Picture Show (1971), The Maltese Falcon (1941), The Night of the Hunter (1955), The Philadelphia Story (1940), The Third Man (1949), The Treasure of the Sierra Madre (1948), The Wages of Fear (1953), The Wizard of Oz (1939), The Wrestler (2008), Tokyo Story (Tôkyô monogatari) (1953), Touch of Evil (1958), Toy Story 2 (1999), Toy Story 3 (2010), Toy Story (1995), Up (2009), Vertigo (1958), Wonder Woman (2017), Zootopia (2016)]",
     "output_type": "error",
     "traceback": [
      "\u001b[1;31m---------------------------------------------------------------------------\u001b[0m",
      "\u001b[1;31mAssertionError\u001b[0m                            Traceback (most recent call last)",
      "\u001b[1;32m<ipython-input-19-bc6a007974f0>\u001b[0m in \u001b[0;36m<module>\u001b[1;34m()\u001b[0m\n\u001b[0;32m      4\u001b[0m \u001b[0mdf_solution\u001b[0m\u001b[1;33m.\u001b[0m\u001b[0msort_values\u001b[0m\u001b[1;33m(\u001b[0m\u001b[1;34m'title'\u001b[0m\u001b[1;33m,\u001b[0m \u001b[0minplace\u001b[0m \u001b[1;33m=\u001b[0m \u001b[1;32mTrue\u001b[0m\u001b[1;33m)\u001b[0m\u001b[1;33m\u001b[0m\u001b[0m\n\u001b[0;32m      5\u001b[0m \u001b[0mdf_solution\u001b[0m\u001b[1;33m.\u001b[0m\u001b[0mreset_index\u001b[0m\u001b[1;33m(\u001b[0m\u001b[0minplace\u001b[0m \u001b[1;33m=\u001b[0m \u001b[1;32mTrue\u001b[0m\u001b[1;33m,\u001b[0m \u001b[0mdrop\u001b[0m \u001b[1;33m=\u001b[0m \u001b[1;32mTrue\u001b[0m\u001b[1;33m)\u001b[0m\u001b[1;33m\u001b[0m\u001b[0m\n\u001b[1;32m----> 6\u001b[1;33m \u001b[0mpd\u001b[0m\u001b[1;33m.\u001b[0m\u001b[0mtesting\u001b[0m\u001b[1;33m.\u001b[0m\u001b[0massert_frame_equal\u001b[0m\u001b[1;33m(\u001b[0m\u001b[0mdf\u001b[0m\u001b[1;33m,\u001b[0m \u001b[0mdf_solution\u001b[0m\u001b[1;33m)\u001b[0m\u001b[1;33m\u001b[0m\u001b[0m\n\u001b[0m\u001b[0;32m      7\u001b[0m \u001b[1;31m#df_solution.head()\u001b[0m\u001b[1;33m\u001b[0m\u001b[1;33m\u001b[0m\u001b[0m\n",
      "\u001b[1;32m~\\Anaconda3\\envs\\my_env\\lib\\site-packages\\pandas\\util\\testing.py\u001b[0m in \u001b[0;36massert_frame_equal\u001b[1;34m(left, right, check_dtype, check_index_type, check_column_type, check_frame_type, check_less_precise, check_names, by_blocks, check_exact, check_datetimelike_compat, check_categorical, check_like, obj)\u001b[0m\n\u001b[0;32m   1363\u001b[0m                 \u001b[0mcheck_datetimelike_compat\u001b[0m\u001b[1;33m=\u001b[0m\u001b[0mcheck_datetimelike_compat\u001b[0m\u001b[1;33m,\u001b[0m\u001b[1;33m\u001b[0m\u001b[0m\n\u001b[0;32m   1364\u001b[0m                 \u001b[0mcheck_categorical\u001b[0m\u001b[1;33m=\u001b[0m\u001b[0mcheck_categorical\u001b[0m\u001b[1;33m,\u001b[0m\u001b[1;33m\u001b[0m\u001b[0m\n\u001b[1;32m-> 1365\u001b[1;33m                 obj='DataFrame.iloc[:, {idx}]'.format(idx=i))\n\u001b[0m\u001b[0;32m   1366\u001b[0m \u001b[1;33m\u001b[0m\u001b[0m\n\u001b[0;32m   1367\u001b[0m \u001b[1;33m\u001b[0m\u001b[0m\n",
      "\u001b[1;32m~\\Anaconda3\\envs\\my_env\\lib\\site-packages\\pandas\\util\\testing.py\u001b[0m in \u001b[0;36massert_series_equal\u001b[1;34m(left, right, check_dtype, check_index_type, check_series_type, check_less_precise, check_names, check_exact, check_datetimelike_compat, check_categorical, obj)\u001b[0m\n\u001b[0;32m   1242\u001b[0m                                      \u001b[0mcheck_less_precise\u001b[0m\u001b[1;33m=\u001b[0m\u001b[0mcheck_less_precise\u001b[0m\u001b[1;33m,\u001b[0m\u001b[1;33m\u001b[0m\u001b[0m\n\u001b[0;32m   1243\u001b[0m                                      \u001b[0mcheck_dtype\u001b[0m\u001b[1;33m=\u001b[0m\u001b[0mcheck_dtype\u001b[0m\u001b[1;33m,\u001b[0m\u001b[1;33m\u001b[0m\u001b[0m\n\u001b[1;32m-> 1244\u001b[1;33m                                      obj='{obj}'.format(obj=obj))\n\u001b[0m\u001b[0;32m   1245\u001b[0m \u001b[1;33m\u001b[0m\u001b[0m\n\u001b[0;32m   1246\u001b[0m     \u001b[1;31m# metadata comparison\u001b[0m\u001b[1;33m\u001b[0m\u001b[1;33m\u001b[0m\u001b[0m\n",
      "\u001b[1;32mpandas\\_libs\\testing.pyx\u001b[0m in \u001b[0;36mpandas._libs.testing.assert_almost_equal\u001b[1;34m()\u001b[0m\n",
      "\u001b[1;32mpandas\\_libs\\testing.pyx\u001b[0m in \u001b[0;36mpandas._libs.testing.assert_almost_equal\u001b[1;34m()\u001b[0m\n",
      "\u001b[1;32m~\\Anaconda3\\envs\\my_env\\lib\\site-packages\\pandas\\util\\testing.py\u001b[0m in \u001b[0;36mraise_assert_detail\u001b[1;34m(obj, message, left, right, diff)\u001b[0m\n\u001b[0;32m   1033\u001b[0m         \u001b[0mmsg\u001b[0m \u001b[1;33m+=\u001b[0m \u001b[1;34m\"\\n[diff]: {diff}\"\u001b[0m\u001b[1;33m.\u001b[0m\u001b[0mformat\u001b[0m\u001b[1;33m(\u001b[0m\u001b[0mdiff\u001b[0m\u001b[1;33m=\u001b[0m\u001b[0mdiff\u001b[0m\u001b[1;33m)\u001b[0m\u001b[1;33m\u001b[0m\u001b[0m\n\u001b[0;32m   1034\u001b[0m \u001b[1;33m\u001b[0m\u001b[0m\n\u001b[1;32m-> 1035\u001b[1;33m     \u001b[1;32mraise\u001b[0m \u001b[0mAssertionError\u001b[0m\u001b[1;33m(\u001b[0m\u001b[0mmsg\u001b[0m\u001b[1;33m)\u001b[0m\u001b[1;33m\u001b[0m\u001b[0m\n\u001b[0m\u001b[0;32m   1036\u001b[0m \u001b[1;33m\u001b[0m\u001b[0m\n\u001b[0;32m   1037\u001b[0m \u001b[1;33m\u001b[0m\u001b[0m\n",
      "\u001b[1;31mAssertionError\u001b[0m: DataFrame.iloc[:, 0] are different\n\nDataFrame.iloc[:, 0] values are different (3.0 %)\n[left]:  [12 Angry Men (Twelve Angry Men) (1957), 12 Years a Slave (2013), A Hard Day's Night (1964), A Streetcar Named Desire (1951), Alien (1979), All About Eve (1950), All Quiet on the Western Front (1930), Apocalypse Now (1979), Argo (2012), Army of Shadows (L'ArmÃ©e des ombres) (1969), Arrival (2016), Baby Driver (2017), Battleship Potemkin (1925), Bicycle Thieves (Ladri di biciclette) (1949), Boyhood (2014), Brooklyn (2015), Casablanca (1942), Citizen Kane (1941), Dr. Strangelove Or How I Learned to Stop Worrying and Love the Bomb (1964), Dunkirk (2017), E.T. The Extra-Terrestrial (1982), Finding Nemo (2003), Frankenstein (1931), Get Out (2017), Gone With the Wind (1939), Gravity (2013), Harry Potter and the Deathly Hallows - Part 2 (2011), Hell or High Water (2016), High Noon (1952), Inside Out (2015), It Happened One Night (1934), Jaws (1975), King Kong (1933), L.A. Confidential (1997), La Grande illusion (Grand Illusion) (1938), La La Land (2016), Laura (1944), Logan (2017), Mad Max: Fury Road (2015), Man on Wire (2008), Manchester by the Sea (2016), Metropolis (1927), Modern Times (1936), Moonlight (2016), M (1931), North by Northwest (1959), Nosferatu, a Symphony of Horror (Nosferatu, eine Symphonie des Grauens) (Nosferatu the Vampire) (1922), On the Waterfront (1954), Open City (1946), Pinocchio (1940), Psycho (1960), RashÃ´mon (1951), Rear Window (1954), Rebecca (1940), Repulsion (1965), Roman Holiday (1953), Rosemary's Baby (1968), Selma (2015), Seven Samurai (Shichinin no Samurai) (1956), Singin' in the Rain (1952), Skyfall (2012), Snow White and the Seven Dwarfs (1937), Spotlight (2015), Star Trek (2009), Star Wars: Episode VII - The Force Awakens (2015), Sunset Boulevard (1950), Taxi Driver (1976), The 39 Steps (1935), The 400 Blows (Les Quatre cents coups) (1959), The Adventures of Robin Hood (1938), The Babadook (2014), The Battle of Algiers (La Battaglia di Algeri) (1967), The Big Sick (2017), The Bride of Frankenstein (1935), The Cabinet of Dr. Caligari (Das Cabinet des Dr. Caligari) (1920), The Conformist (1970), The Dark Knight (2008), The Godfather, Part II (1974), The Godfather (1972), The Good, the Bad and the Ugly (1966), The Grapes of Wrath (1940), The Jungle Book (2016), The Last Picture Show (1971), The Maltese Falcon (1941), The Night of the Hunter (1955), The Philadelphia Story (1940), The Third Man (1949), The Treasure of the Sierra Madre (1948), The Wages of Fear (1953), The Wizard of Oz (1939), The Wrestler (2008), Tokyo Story (TÃ´kyÃ´ monogatari) (1953), Touch of Evil (1958), Toy Story 2 (1999), Toy Story 3 (2010), Toy Story (1995), Up (2009), Vertigo (1958), Wonder Woman (2017), Zootopia (2016)]\n[right]: [12 Angry Men (Twelve Angry Men) (1957), 12 Years a Slave (2013), A Hard Day's Night (1964), A Streetcar Named Desire (1951), Alien (1979), All About Eve (1950), All Quiet on the Western Front (1930), Apocalypse Now (1979), Argo (2012), Army of Shadows (L'Armée des ombres) (1969), Arrival (2016), Baby Driver (2017), Battleship Potemkin (1925), Bicycle Thieves (Ladri di biciclette) (1949), Boyhood (2014), Brooklyn (2015), Casablanca (1942), Citizen Kane (1941), Dr. Strangelove Or How I Learned to Stop Worrying and Love the Bomb (1964), Dunkirk (2017), E.T. The Extra-Terrestrial (1982), Finding Nemo (2003), Frankenstein (1931), Get Out (2017), Gone With the Wind (1939), Gravity (2013), Harry Potter and the Deathly Hallows - Part 2 (2011), Hell or High Water (2016), High Noon (1952), Inside Out (2015), It Happened One Night (1934), Jaws (1975), King Kong (1933), L.A. Confidential (1997), La Grande illusion (Grand Illusion) (1938), La La Land (2016), Laura (1944), Logan (2017), Mad Max: Fury Road (2015), Man on Wire (2008), Manchester by the Sea (2016), Metropolis (1927), Modern Times (1936), Moonlight (2016), M (1931), North by Northwest (1959), Nosferatu, a Symphony of Horror (Nosferatu, eine Symphonie des Grauens) (Nosferatu the Vampire) (1922), On the Waterfront (1954), Open City (1946), Pinocchio (1940), Psycho (1960), Rashômon (1951), Rear Window (1954), Rebecca (1940), Repulsion (1965), Roman Holiday (1953), Rosemary's Baby (1968), Selma (2015), Seven Samurai (Shichinin no Samurai) (1956), Singin' in the Rain (1952), Skyfall (2012), Snow White and the Seven Dwarfs (1937), Spotlight (2015), Star Trek (2009), Star Wars: Episode VII - The Force Awakens (2015), Sunset Boulevard (1950), Taxi Driver (1976), The 39 Steps (1935), The 400 Blows (Les Quatre cents coups) (1959), The Adventures of Robin Hood (1938), The Babadook (2014), The Battle of Algiers (La Battaglia di Algeri) (1967), The Big Sick (2017), The Bride of Frankenstein (1935), The Cabinet of Dr. Caligari (Das Cabinet des Dr. Caligari) (1920), The Conformist (1970), The Dark Knight (2008), The Godfather, Part II (1974), The Godfather (1972), The Good, the Bad and the Ugly (1966), The Grapes of Wrath (1940), The Jungle Book (2016), The Last Picture Show (1971), The Maltese Falcon (1941), The Night of the Hunter (1955), The Philadelphia Story (1940), The Third Man (1949), The Treasure of the Sierra Madre (1948), The Wages of Fear (1953), The Wizard of Oz (1939), The Wrestler (2008), Tokyo Story (Tôkyô monogatari) (1953), Touch of Evil (1958), Toy Story 2 (1999), Toy Story 3 (2010), Toy Story (1995), Up (2009), Vertigo (1958), Wonder Woman (2017), Zootopia (2016)]"
     ]
    }
   ],
   "source": [
    "df_solution = pd.read_pickle('df_solution.pkl')\n",
    "df.sort_values('title', inplace = True)\n",
    "df.reset_index(inplace = True, drop = True)\n",
    "df_solution.sort_values('title', inplace = True)\n",
    "df_solution.reset_index(inplace = True, drop = True)\n",
    "pd.testing.assert_frame_equal(df, df_solution)\n",
    "#df_solution.head()"
   ]
  },
  {
   "cell_type": "code",
   "execution_count": 17,
   "metadata": {},
   "outputs": [
    {
     "data": {
      "text/html": [
       "<div>\n",
       "<style scoped>\n",
       "    .dataframe tbody tr th:only-of-type {\n",
       "        vertical-align: middle;\n",
       "    }\n",
       "\n",
       "    .dataframe tbody tr th {\n",
       "        vertical-align: top;\n",
       "    }\n",
       "\n",
       "    .dataframe thead th {\n",
       "        text-align: right;\n",
       "    }\n",
       "</style>\n",
       "<table border=\"1\" class=\"dataframe\">\n",
       "  <thead>\n",
       "    <tr style=\"text-align: right;\">\n",
       "      <th></th>\n",
       "      <th>title</th>\n",
       "      <th>audience_score</th>\n",
       "      <th>number_of_audience_ratings</th>\n",
       "    </tr>\n",
       "  </thead>\n",
       "  <tbody>\n",
       "    <tr>\n",
       "      <th>0</th>\n",
       "      <td>12 Angry Men (Twelve Angry Men) (1957)</td>\n",
       "      <td>97</td>\n",
       "      <td>103672</td>\n",
       "    </tr>\n",
       "    <tr>\n",
       "      <th>1</th>\n",
       "      <td>12 Years a Slave (2013)</td>\n",
       "      <td>90</td>\n",
       "      <td>138789</td>\n",
       "    </tr>\n",
       "    <tr>\n",
       "      <th>2</th>\n",
       "      <td>A Hard Day's Night (1964)</td>\n",
       "      <td>89</td>\n",
       "      <td>50067</td>\n",
       "    </tr>\n",
       "    <tr>\n",
       "      <th>3</th>\n",
       "      <td>A Streetcar Named Desire (1951)</td>\n",
       "      <td>90</td>\n",
       "      <td>54761</td>\n",
       "    </tr>\n",
       "    <tr>\n",
       "      <th>4</th>\n",
       "      <td>Alien (1979)</td>\n",
       "      <td>94</td>\n",
       "      <td>457186</td>\n",
       "    </tr>\n",
       "  </tbody>\n",
       "</table>\n",
       "</div>"
      ],
      "text/plain": [
       "                                    title  audience_score  \\\n",
       "0  12 Angry Men (Twelve Angry Men) (1957)              97   \n",
       "1                 12 Years a Slave (2013)              90   \n",
       "2               A Hard Day's Night (1964)              89   \n",
       "3         A Streetcar Named Desire (1951)              90   \n",
       "4                            Alien (1979)              94   \n",
       "\n",
       "   number_of_audience_ratings  \n",
       "0                      103672  \n",
       "1                      138789  \n",
       "2                       50067  \n",
       "3                       54761  \n",
       "4                      457186  "
      ]
     },
     "execution_count": 17,
     "metadata": {},
     "output_type": "execute_result"
    }
   ],
   "source": [
    "df.head()"
   ]
  },
  {
   "cell_type": "code",
   "execution_count": 20,
   "metadata": {},
   "outputs": [],
   "source": [
    "df_critics = pd.read_csv('bestofrt.tsv', sep='\\t')"
   ]
  },
  {
   "cell_type": "code",
   "execution_count": 40,
   "metadata": {},
   "outputs": [],
   "source": [
    "df_critics['title']= df_critics['title'].str.strip() \n",
    "df_critics['title_len'] = df_critics['title'].str.len()\n",
    "df_critics = df_critics.sort_values(by='title').reset_index()"
   ]
  },
  {
   "cell_type": "code",
   "execution_count": 41,
   "metadata": {},
   "outputs": [
    {
     "data": {
      "text/html": [
       "<div>\n",
       "<style scoped>\n",
       "    .dataframe tbody tr th:only-of-type {\n",
       "        vertical-align: middle;\n",
       "    }\n",
       "\n",
       "    .dataframe tbody tr th {\n",
       "        vertical-align: top;\n",
       "    }\n",
       "\n",
       "    .dataframe thead th {\n",
       "        text-align: right;\n",
       "    }\n",
       "</style>\n",
       "<table border=\"1\" class=\"dataframe\">\n",
       "  <thead>\n",
       "    <tr style=\"text-align: right;\">\n",
       "      <th></th>\n",
       "      <th>title</th>\n",
       "      <th>audience_score</th>\n",
       "      <th>number_of_audience_ratings</th>\n",
       "      <th>title_len</th>\n",
       "    </tr>\n",
       "  </thead>\n",
       "  <tbody>\n",
       "    <tr>\n",
       "      <th>0</th>\n",
       "      <td>12 Angry Men (Twelve Angry Men) (1957)</td>\n",
       "      <td>97</td>\n",
       "      <td>103672</td>\n",
       "      <td>38</td>\n",
       "    </tr>\n",
       "    <tr>\n",
       "      <th>1</th>\n",
       "      <td>12 Years a Slave (2013)</td>\n",
       "      <td>90</td>\n",
       "      <td>138789</td>\n",
       "      <td>23</td>\n",
       "    </tr>\n",
       "    <tr>\n",
       "      <th>2</th>\n",
       "      <td>A Hard Day's Night (1964)</td>\n",
       "      <td>89</td>\n",
       "      <td>50067</td>\n",
       "      <td>25</td>\n",
       "    </tr>\n",
       "    <tr>\n",
       "      <th>3</th>\n",
       "      <td>A Streetcar Named Desire (1951)</td>\n",
       "      <td>90</td>\n",
       "      <td>54761</td>\n",
       "      <td>31</td>\n",
       "    </tr>\n",
       "    <tr>\n",
       "      <th>4</th>\n",
       "      <td>Alien (1979)</td>\n",
       "      <td>94</td>\n",
       "      <td>457186</td>\n",
       "      <td>12</td>\n",
       "    </tr>\n",
       "  </tbody>\n",
       "</table>\n",
       "</div>"
      ],
      "text/plain": [
       "                                    title  audience_score  \\\n",
       "0  12 Angry Men (Twelve Angry Men) (1957)              97   \n",
       "1                 12 Years a Slave (2013)              90   \n",
       "2               A Hard Day's Night (1964)              89   \n",
       "3         A Streetcar Named Desire (1951)              90   \n",
       "4                            Alien (1979)              94   \n",
       "\n",
       "   number_of_audience_ratings  title_len  \n",
       "0                      103672         38  \n",
       "1                      138789         23  \n",
       "2                       50067         25  \n",
       "3                       54761         31  \n",
       "4                      457186         12  "
      ]
     },
     "execution_count": 41,
     "metadata": {},
     "output_type": "execute_result"
    }
   ],
   "source": [
    "df['title_len'] = df['title'].str.len()\n",
    "df.head()"
   ]
  },
  {
   "cell_type": "code",
   "execution_count": 45,
   "metadata": {},
   "outputs": [],
   "source": [
    "import matplotlib.pyplot as plt\n",
    "%matplotlib inline\n",
    "\n",
    "df_joined = df.join(df_critics, how='outer', lsuffix='l_', rsuffix='r_')\n"
   ]
  },
  {
   "cell_type": "code",
   "execution_count": 47,
   "metadata": {},
   "outputs": [
    {
     "data": {
      "text/plain": [
       "<matplotlib.collections.PathCollection at 0x23f08261be0>"
      ]
     },
     "execution_count": 47,
     "metadata": {},
     "output_type": "execute_result"
    },
    {
     "data": {
      "image/png": "[encoded data removed]",
      "text/plain": [
       "<Figure size 432x288 with 1 Axes>"
      ]
     },
     "metadata": {
      "needs_background": "light"
     },
     "output_type": "display_data"
    }
   ],
   "source": [
    "plt.scatter(df_joined.audience_score, df_joined.critic_score)"
   ]
  },
  {
   "cell_type": "code",
   "execution_count": 46,
   "metadata": {},
   "outputs": [
    {
     "data": {
      "text/plain": [
       "Index(['titlel_', 'audience_score', 'number_of_audience_ratings',\n",
       "       'title_lenl_', 'index', 'ranking', 'critic_score', 'titler_',\n",
       "       'number_of_critic_ratings', 'title_lenr_'],\n",
       "      dtype='object')"
      ]
     },
     "execution_count": 46,
     "metadata": {},
     "output_type": "execute_result"
    }
   ],
   "source": [
    "df_joined.columns"
   ]
  },
  {
   "cell_type": "code",
   "execution_count": null,
   "metadata": {},
   "outputs": [],
   "source": []
  }
 ],
 "metadata": {
  "kernelspec": {
   "display_name": "Python [default]",
   "language": "python",
   "name": "python3"
  },
  "language_info": {
   "codemirror_mode": {
    "name": "ipython",
    "version": 3
   },
   "file_extension": ".py",
   "mimetype": "text/x-python",
   "name": "python",
   "nbconvert_exporter": "python",
   "pygments_lexer": "ipython3",
   "version": "3.7.0"
  }
 },
 "nbformat": 4,
 "nbformat_minor": 2
}
