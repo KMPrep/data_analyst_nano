{
 "cells": [
  {
   "cell_type": "code",
   "execution_count": 3,
   "metadata": {},
   "outputs": [
    {
     "name": "stdout",
     "output_type": "stream",
     "text": [
      "select M.id as match_id ,M.date as match_date ,L.name as league_name ,M.stage as match_stage ,C.name as country_name ,M.season as Season ,HT.team_long_name as home_team_long_name ,HT.team_short_name as home_team_short_name ,AT.team_long_name as away_team_long_name ,AT.team_short_name as away_team_short_name ,M.home_team_goal as home_team_goals ,M.away_team_goal as away_team_goals ,M.home_player_1 ,M.home_player_2 ,M.home_player_3 ,M.home_player_4 ,M.home_player_5 ,M.home_player_6 ,M.home_player_7 ,M.home_player_8 ,M.home_player_9 ,M.home_player_10 ,M.home_player_11 ,M.away_player_1 ,M.away_player_2 ,M.away_player_3 ,M.away_player_4 ,M.away_player_5 ,M.away_player_6 ,M.away_player_7 ,M.away_player_8 ,M.away_player_9 ,M.away_player_10 ,M.away_player_11 ,M.goal ,M.shoton ,M.shotoff ,M.corner ,M.foulcommit ,M.card ,M.cross ,M.possession from Match as M join League as L on M.league_id = L.id join Country as C on C.id = L.country_id join Team as HT on HT.team_api_id = M.home_team_api_id join Team as AT on AT.team_api_id = M.away_team_api_id\n"
     ]
    }
   ],
   "source": [
    "import pandas as p\n",
    "\n",
    "query = 'select \\\n",
    "M.id as match_id \\\n",
    ",M.date as match_date \\\n",
    ",L.name as league_name \\\n",
    ",M.stage as match_stage \\\n",
    ",C.name as country_name \\\n",
    ",M.season as Season \\\n",
    ",HT.team_long_name as home_team_long_name \\\n",
    ",HT.team_short_name as home_team_short_name \\\n",
    ",AT.team_long_name as away_team_long_name \\\n",
    ",AT.team_short_name as away_team_short_name \\\n",
    ",M.home_team_goal as home_team_goals \\\n",
    ",M.away_team_goal as away_team_goals \\\n",
    ",M.home_player_1 \\\n",
    ",M.home_player_2 \\\n",
    ",M.home_player_3 \\\n",
    ",M.home_player_4 \\\n",
    ",M.home_player_5 \\\n",
    ",M.home_player_6 \\\n",
    ",M.home_player_7 \\\n",
    ",M.home_player_8 \\\n",
    ",M.home_player_9 \\\n",
    ",M.home_player_10 \\\n",
    ",M.home_player_11 \\\n",
    ",M.away_player_1 \\\n",
    ",M.away_player_2 \\\n",
    ",M.away_player_3 \\\n",
    ",M.away_player_4 \\\n",
    ",M.away_player_5 \\\n",
    ",M.away_player_6 \\\n",
    ",M.away_player_7 \\\n",
    ",M.away_player_8 \\\n",
    ",M.away_player_9 \\\n",
    ",M.away_player_10 \\\n",
    ",M.away_player_11 \\\n",
    ",M.goal \\\n",
    ",M.shoton \\\n",
    ",M.shotoff \\\n",
    ",M.corner \\\n",
    ",M.foulcommit \\\n",
    ",M.card \\\n",
    ",M.cross \\\n",
    ",M.possession \\\n",
    "from Match as M \\\n",
    "join League as L on M.league_id = L.id \\\n",
    "join Country as C on C.id = L.country_id \\\n",
    "join Team as HT on HT.team_api_id = M.home_team_api_id \\\n",
    "join Team as AT on AT.team_api_id = M.away_team_api_id'\n",
    "\n",
    "print(query)"
   ]
  },
  {
   "cell_type": "code",
   "execution_count": 5,
   "metadata": {},
   "outputs": [],
   "source": [
    "import pandas as pd\n",
    "import sqlite3 as db\n",
    "conn = db.connect(\"database.sqlite\")\n",
    "\n",
    "#Create match dataframe with match query\n",
    "df_match = pd.read_sql_query(query, conn)"
   ]
  },
  {
   "cell_type": "code",
   "execution_count": 10,
   "metadata": {},
   "outputs": [
    {
     "data": {
      "text/plain": [
       "42"
      ]
     },
     "execution_count": 10,
     "metadata": {},
     "output_type": "execute_result"
    }
   ],
   "source": [
    "#df_match.info()\n",
    "len(df_match.columns)"
   ]
  },
  {
   "cell_type": "code",
   "execution_count": null,
   "metadata": {},
   "outputs": [],
   "source": [
    "#df[df['home_team_goals'] == df['away_team_goals']]['match_stage'].value_counts()\n",
    "df['match_stage'].value_counts()"
   ]
  },
  {
   "cell_type": "code",
   "execution_count": null,
   "metadata": {},
   "outputs": [],
   "source": [
    "def get_winning_team(df):\n",
    "    if df['home_team_goals'] > df['away_team_goals'] :\n",
    "        return df['home_team_short_name']\n",
    "    elif df['home_team_goals'] < df['away_team_goals']:\n",
    "        return df['away_team_short_name']\n",
    "    else:\n",
    "        return 'No result'\n",
    "\n",
    "df['winning_team'] = df.apply(get_winning_team, axis=1)\n",
    "\n",
    "df_only_win_matches = df.query('winning_team != \"No result\"')\n",
    "#df_only_win_matches['winning_team'].value_counts()\n",
    "\n",
    "\n",
    "    "
   ]
  },
  {
   "cell_type": "code",
   "execution_count": null,
   "metadata": {},
   "outputs": [],
   "source": [
    "df['match_date'] = pd.to_datetime(df['match_date'], infer_datetime_format=True)"
   ]
  },
  {
   "cell_type": "code",
   "execution_count": null,
   "metadata": {},
   "outputs": [],
   "source": [
    "df.columns"
   ]
  },
  {
   "cell_type": "code",
   "execution_count": null,
   "metadata": {},
   "outputs": [],
   "source": [
    "# Q1: Which team improved the most?\n",
    "\n",
    "#We need to find the wins vs total matches for the 1st season, and the last season and compare the results\n",
    "\n",
    "#First we need to compute the list of matches\n",
    "\n",
    "import numpy as np\n",
    "df.columns\n",
    "\n",
    "#For computing the list of matches for all the team names\n",
    "\n",
    "#Get home games\n",
    "home_games = df.groupby(['Season', 'home_team_short_name']).count()['match_id'].reset_index()\n",
    "home_games.rename(index=str, columns={\"match_id\": \"home_match_count\"}, inplace=True)\n",
    "\n",
    "\n",
    "#Get away games\n",
    "away_games = df.groupby(['Season', 'away_team_short_name']).count()['match_id'].reset_index()\n",
    "away_games.rename(index=str, columns={\"match_id\": \"away_match_count\"}, inplace=True)\n",
    "away_games\n",
    "\n",
    "all_matches = pd.merge(home_games, away_games,  how='inner', left_on=['Season','home_team_short_name'], right_on = ['Season','away_team_short_name'])\n",
    "all_matches.rename(index=str, columns={\"home_team_short_name\": \"team_short_name\"}, inplace=True)\n",
    "all_matches.drop('away_team_short_name',axis=1, inplace=True)\n",
    "all_matches\n",
    "\n",
    "#testing for a team to make sure it works\n",
    "sum((df['Season'] == '2015/2016') & ((df['home_team_short_name'] == 'ZWO') | ( df['away_team_short_name'] == 'ZWO')))\n",
    "\n",
    "all_matches['total_matches'] = all_matches['home_match_count'] + all_matches['away_match_count']\n",
    "all_matches\n",
    "\n",
    "#compute winning teams \n",
    "interested_column_index = np.r_[np.arange(0,3), 4, 5, 42]\n",
    "interested_column_index\n",
    "df_interested_columns = df.iloc[:,interested_column_index]\n",
    "winning_matches.rename(index=str, columns={'winning_team': 'team_short_name'}, inplace=True)\n",
    "\n",
    "#Remove the rows with no result\n",
    "df_interested_columns = df_interested_columns.query('winning_team != \"No result\"')\n",
    "winning_matches = df_interested_columns.groupby(['Season', 'winning_team']).count()['match_id'].reset_index()\n",
    "winning_matches.rename(index=str, columns={'match_id': 'win_match_count'}, inplace=True)\n",
    "winning_matches\n",
    "\n",
    "all_data = pd.merge(all_matches, winning_matches, how='inner', left_on=['Season','team_short_name'], right_on=['Season', 'winning_team'])\n",
    "all_data.drop('winning_team',axis=1, inplace=True)\n",
    "all_data['win_percentage' ] =  all_data['win_match_count']/all_data['total_matches']\n",
    "all_data\n",
    "pivoted_data = all_data.pivot(index='team_short_name', columns='Season', values='win_percentage').reset_index()\n",
    "pivoted_data.dropna(inplace=True)\n",
    "pivoted_data.set_index('team_short_name', inplace=True)\n",
    "\n",
    "pivoted_data.columns = pivoted_data.columns.str.strip().str.lower().str.replace('/', '_')\n",
    "pivoted_data['overall_win_percentage_change'] = pivoted_data['2015_2016'] - pivoted_data['2008_2009']\n",
    "pivoted_data = pivoted_data.sort_values(by='overall_win_percentage_change', ascending=False)\n",
    "pivoted_data.head(1)\n",
    "#Compute the difference between 1st season ()"
   ]
  },
  {
   "cell_type": "code",
   "execution_count": null,
   "metadata": {},
   "outputs": [],
   "source": [
    "\n",
    "#| df['away_team_short_name'] == 'ZWO')"
   ]
  },
  {
   "cell_type": "code",
   "execution_count": null,
   "metadata": {},
   "outputs": [],
   "source": []
  }
 ],
 "metadata": {
  "kernelspec": {
   "display_name": "Python [conda env:my_env]",
   "language": "python",
   "name": "conda-env-my_env-py"
  },
  "language_info": {
   "codemirror_mode": {
    "name": "ipython",
    "version": 3
   },
   "file_extension": ".py",
   "mimetype": "text/x-python",
   "name": "python",
   "nbconvert_exporter": "python",
   "pygments_lexer": "ipython3",
   "version": "3.7.0"
  }
 },
 "nbformat": 4,
 "nbformat_minor": 2
}
