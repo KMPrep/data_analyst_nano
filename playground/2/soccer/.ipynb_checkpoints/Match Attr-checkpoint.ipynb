{
 "cells": [
  {
   "cell_type": "code",
   "execution_count": null,
   "metadata": {},
   "outputs": [],
   "source": [
    "import pandas as pd\n",
    "import numpy as np\n",
    "import xml.etree.ElementTree as ET\n",
    "import sqlite3 as db\n",
    "\n",
    "match_attr_query = 'select \\\n",
    "M.id as match_id \\\n",
    ",L.name as league_name \\\n",
    ",C.name as country_name \\\n",
    ",HT.team_long_name as home_team_long_name \\\n",
    ",HT.team_short_name as home_team_short_name \\\n",
    ",M.home_team_api_id as home_team_api_id \\\n",
    ",M.away_team_api_id as away_team_api_id \\\n",
    ",AT.team_long_name as away_team_long_name \\\n",
    ",AT.team_short_name as away_team_short_name \\\n",
    ",M.home_team_goal as home_team_goals \\\n",
    ",M.away_team_goal as away_team_goals \\\n",
    ",M.shoton \\\n",
    ",M.shotoff \\\n",
    ",M.corner \\\n",
    ",M.foulcommit \\\n",
    ",M.card \\\n",
    ",M.cross \\\n",
    ",M.possession \\\n",
    "from [Match] as M \\\n",
    "join League as L on M.league_id = L.id \\\n",
    "join Country as C on C.id = L.country_id \\\n",
    "join Team as HT on HT.team_api_id = M.home_team_api_id \\\n",
    "join Team as AT on AT.team_api_id = M.away_team_api_id'\n",
    "\n",
    "conn = db.connect(\"database.sqlite\")\n",
    "df = pd.read_sql_query(match_attr_query, conn)\n",
    "df.head(5)\n",
    "\n",
    "\n"
   ]
  },
  {
   "cell_type": "code",
   "execution_count": null,
   "metadata": {},
   "outputs": [],
   "source": [
    "df.info()"
   ]
  },
  {
   "cell_type": "code",
   "execution_count": null,
   "metadata": {},
   "outputs": [],
   "source": [
    "df.dropna(inplace=True)"
   ]
  },
  {
   "cell_type": "code",
   "execution_count": null,
   "metadata": {},
   "outputs": [],
   "source": [
    "sum(df.duplicated())"
   ]
  },
  {
   "cell_type": "code",
   "execution_count": null,
   "metadata": {},
   "outputs": [],
   "source": [
    "df.info()"
   ]
  },
  {
   "cell_type": "code",
   "execution_count": null,
   "metadata": {},
   "outputs": [],
   "source": [
    "class XML2DataFrame:\n",
    "\n",
    "    def __init__(self, xml_data):\n",
    "        self.root = ET.XML(xml_data)\n",
    "\n",
    "    def parse_root(self, root):\n",
    "        return [self.parse_element(child) for child in iter(root)]\n",
    "\n",
    "    def parse_element(self, element, parsed=None):\n",
    "        if parsed is None:\n",
    "            parsed = dict()\n",
    "        for key in element.keys():\n",
    "            parsed[key] = element.attrib.get(key)\n",
    "        if element.text:\n",
    "            parsed[element.tag] = element.text\n",
    "        for child in list(element):\n",
    "            self.parse_element(child, parsed)\n",
    "        return parsed\n",
    "\n",
    "    def process_data(self):\n",
    "        structure_data = self.parse_root(self.root)\n",
    "        return pd.DataFrame(structure_data)\n"
   ]
  },
  {
   "cell_type": "code",
   "execution_count": null,
   "metadata": {},
   "outputs": [],
   "source": [
    "def parse_xml_data(dataFrame, colName=None):    \n",
    "    \n",
    "        xml2df = XML2DataFrame(dataFrame[colName])\n",
    "        xml_dataframe = xml2df.process_data()\n",
    "        \n",
    "        home_team_api_id = dataFrame['home_team_api_id']\n",
    "        away_team_api_id = dataFrame['away_team_api_id']                    \n",
    "        \n",
    "        if colName in ['corner', 'shoton', 'shotoff', 'foulcommit']:\n",
    "            series = pd.Series([None, None])\n",
    "            try:                \n",
    "                if 'team' in xml_dataframe.columns:\n",
    "                    data_values = xml_dataframe.groupby('team').count()['id'].reset_index()\n",
    "                    data_values['team'] = data_values['team'].astype(int) \n",
    "                    \n",
    "                    home_team_data_value = data_values[data_values['team'] == home_team_api_id]['id']\n",
    "                    away_team_data_value = data_values[data_values['team'] == away_team_api_id]['id']\n",
    "                    series =  pd.Series([  0 if home_team_data_value.count() == 0 else home_team_data_value.iloc[0],      \n",
    "                                         0 if away_team_data_value.count() == 0 else away_team_data_value.iloc[0]])                \n",
    "            except:\n",
    "                print('{0} : {1} Problematic Index'.format( colName, dataFrame['match_id']))\n",
    "            return series\n",
    "        elif colName == 'possession'\n",
    "            series = pd.Series([None, None])\n",
    "            try:\n",
    "                if set(xml_dataframe.columns).issuperset(set(['awaypos','homepos', 'elapsed'])) :\n",
    "                    homepossesion_time = int(xml_dataframe[xml_dataframe['elapsed'] == '90' ].loc['homepos'])\n",
    "                    awaypossesion_time = int(xml_dataframe[xml_dataframe['elapsed'] == '90' ].loc['awaypos'])\n",
    "                    series = pd.Series([homepossesion_time, awaypossesion_time])                    \n",
    "            except:\n",
    "                    print('{0} : {1} Problematic Index'.format( colName, dataFrame['match_id']))\n",
    "            return series\n",
    "        elif colName == 'card':            \n",
    "            series = pd.Series([None, None, None, None])\n",
    "            try:\n",
    "                \n",
    "                if set(xml_dataframe.columns).issuperset(set(['team', 'ycards']):\n",
    "                    yCard_frame = xml_dataframe.groupby(['team','ycards']).count()['id'].reset_index()\n",
    "                    yCard_frame['team'] = yCard_frame['team'].astype(int) \n",
    "                    home_team_data_value = yCard_frame[(yCard_frame['team'] == home_team_api_id) & (yCard_frame['ycards'] == 1)]['id']\n",
    "                    away_team_data_value = yCard_frame[(yCard_frame['team'] == away_team_api_id) & (yCard_frame['ycards'] == 1)]['id']                   \n",
    "                    series[0] = 0 if home_team_data_value.count() == 0 else home_team_data_value.iloc[0]\n",
    "                    series[1] = 0 if away_team_data_value.count() == 0 else away_team_data_value.iloc[0]\n",
    "                 \n",
    "                 if set(xml_dataframe.columns).issuperset(set(['team', 'rcards']):\n",
    "                    rCard_frame = xml_dataframe.groupby(['team','rcards']).count()['id'].reset_index()\n",
    "                    rCard_frame['team'] = rCard_frame['team'].astype(int) \n",
    "                    home_team_data_value = yCard_frame[(rCard_frame['team'] == home_team_api_id) & (rCard_frame['ycards'] == 1)]['id']\n",
    "                    away_team_data_value = yCard_frame[(rCard_frame['team'] == away_team_api_id) & (rCard_frame['ycards'] == 1)]['id']                   \n",
    "                    series[2] = 0 if home_team_data_value.count() == 0 else home_team_data_value.iloc[0]\n",
    "                    series[3] = 0 if away_team_data_value.count() == 0 else away_team_data_value.iloc[0]\n",
    "                  print(series)\n",
    "                  return series\n",
    "                                                          \n",
    "              except:\n",
    "                print('{0} : {1} Problematic Index'.format( colName, dataFrame['match_id']))\n",
    "             \n",
    "        else:\n",
    "            raise ValueError('Unknown column to parse') \n",
    "    \n",
    "df[['shoton_home_team','shoton_away_team']] = df.apply(parse_xml_data, colName='shoton', axis = 1)\n",
    "df[['shotoff_home_team','shotoff_away_team']] = df.apply(parse_xml_data, colName='shotoff', axis = 1)"
   ]
  },
  {
   "cell_type": "code",
   "execution_count": null,
   "metadata": {},
   "outputs": [],
   "source": [
    "df[['corners_home_team','corners_away_team']] = df.apply(parse_xml_data, colName='corner', axis = 1)"
   ]
  },
  {
   "cell_type": "code",
   "execution_count": null,
   "metadata": {},
   "outputs": [],
   "source": [
    "df.info()"
   ]
  },
  {
   "cell_type": "code",
   "execution_count": null,
   "metadata": {},
   "outputs": [],
   "source": []
  }
 ],
 "metadata": {
  "kernelspec": {
   "display_name": "Python [conda env:my_env]",
   "language": "python",
   "name": "conda-env-my_env-py"
  },
  "language_info": {
   "codemirror_mode": {
    "name": "ipython",
    "version": 3
   },
   "file_extension": ".py",
   "mimetype": "text/x-python",
   "name": "python",
   "nbconvert_exporter": "python",
   "pygments_lexer": "ipython3",
   "version": "3.7.0"
  }
 },
 "nbformat": 4,
 "nbformat_minor": 2
}
